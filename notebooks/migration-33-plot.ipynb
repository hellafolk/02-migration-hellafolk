{
  "cells": [
    {
      "cell_type": "markdown",
      "id": "d5a895dd-8baa-4569-87a8-c02c9988502d",
      "metadata": {},
      "source": [
        "# Mapping migration\n",
        "\n",
        "Introduction to vector data operations\n",
        "\n",
        "## STEP 0: Set up\n",
        "\n",
        "To get started on this notebook, you’ll need to restore any variables\n",
        "from previous notebooks to your workspace. To save time and memory, make\n",
        "sure to specify which variables you want to load."
      ]
    },
    {
      "cell_type": "code",
      "execution_count": 1,
      "id": "2acc8777",
      "metadata": {},
      "outputs": [],
      "source": [
        "%store -r"
      ]
    },
    {
      "cell_type": "markdown",
      "id": "7e62c025-8b72-43e9-aabd-e8e007922be9",
      "metadata": {},
      "source": [
        "<link rel=\"stylesheet\" type=\"text/css\" href=\"./assets/styles.css\"><div class=\"callout callout-style-default callout-titled callout-task\"><div class=\"callout-header\"><div class=\"callout-icon-container\"><i class=\"callout-icon\"></i></div><div class=\"callout-title-container flex-fill\">Try It: Import packages</div></div><div class=\"callout-body-container callout-body\"><p>In the imports cell, we’ve included some packages that you will need.\n",
        "Add imports for packages that will help you:</p>\n",
        "<ol type=\"1\">\n",
        "<li>Make interactive maps with vector data</li>\n",
        "<li>Access pre-defined month names</li>\n",
        "<li>Define Coordinate Reference Systems (CRSs)</li>\n",
        "</ol></div></div>"
      ]
    },
    {
      "cell_type": "code",
      "execution_count": 3,
      "id": "054752ce",
      "metadata": {
        "template": "student"
      },
      "outputs": [],
      "source": [
        "# Get month names\n",
        "import calendar\n",
        "\n",
        "# Libraries for Dynamic mapping\n",
        "import cartopy.crs as ccrs\n",
        "import panel as pn"
      ]
    },
    {
      "cell_type": "markdown",
      "id": "d0e24fdb-8687-402b-8497-302749aded76",
      "metadata": {},
      "source": [
        "### Create a simplified `GeoDataFrame` for plotting\n",
        "\n",
        "Plotting larger files can be time consuming. The code below will\n",
        "streamline plotting with `hvplot` by simplifying the geometry,\n",
        "projecting it to a Mercator projection that is compatible with\n",
        "`geoviews`, and cropping off areas in the Arctic.\n",
        "\n",
        "<link rel=\"stylesheet\" type=\"text/css\" href=\"./assets/styles.css\"><div class=\"callout callout-style-default callout-titled callout-task\"><div class=\"callout-header\"><div class=\"callout-icon-container\"><i class=\"callout-icon\"></i></div><div class=\"callout-title-container flex-fill\">Try It: Simplify ecoregion data</div></div><div class=\"callout-body-container callout-body\"><p>Download and save ecoregion boundaries from the EPA:</p>\n",
        "<ol type=\"1\">\n",
        "<li>Simplify the ecoregions with <code>.simplify(.05)</code>, and save\n",
        "it back to the <code>geometry</code> column.</li>\n",
        "<li>Change the Coordinate Reference System (CRS) to Mercator with\n",
        "<code>.to_crs(ccrs.Mercator())</code></li>\n",
        "<li>Use the plotting code that is already in the cell to check that the\n",
        "plotting runs quickly (less than a minute) and looks the way you want,\n",
        "making sure to change <code>gdf</code> to YOUR <code>GeoDataFrame</code>\n",
        "name.</li>\n",
        "</ol></div></div>"
      ]
    },
    {
      "cell_type": "code",
      "execution_count": 5,
      "id": "2e2e59cc",
      "metadata": {
        "template": "student"
      },
      "outputs": [],
      "source": [
        "# Simplify the geometry to speed up processing\n",
        "\n",
        "# Change the CRS to Mercator for mapping\n",
        "\n",
        "# Check that the plot runs in a reasonable amount of time\n",
        "gdf.hvplot(geo=True, crs=ccrs.Mercator())"
      ]
    },
    {
      "cell_type": "markdown",
      "id": "f6f34ef4-acbc-41c3-9580-6b55dd695174",
      "metadata": {},
      "source": [
        "<link rel=\"stylesheet\" type=\"text/css\" href=\"./assets/styles.css\"><div class=\"callout callout-style-default callout-titled callout-task\"><div class=\"callout-header\"><div class=\"callout-icon-container\"><i class=\"callout-icon\"></i></div><div class=\"callout-title-container flex-fill\">Try It: Map migration over time</div></div><div class=\"callout-body-container callout-body\"><ol type=\"1\">\n",
        "<li>If applicable, replace any variable names with the names you defined\n",
        "previously.</li>\n",
        "<li>Replace <code>column_name_used_for_ecoregion_color</code> and\n",
        "<code>column_name_used_for_slider</code> with the column names you wish\n",
        "to use.</li>\n",
        "<li>Customize your plot with your choice of title, tile source, color\n",
        "map, and size.</li>\n",
        "</ol>\n",
        "<div data-__quarto_custom=\"true\" data-__quarto_custom_type=\"Callout\"\n",
        "data-__quarto_custom_context=\"Block\" data-__quarto_custom_id=\"3\">\n",
        "<div data-__quarto_custom_scaffold=\"true\">\n",
        "\n",
        "</div>\n",
        "<div data-__quarto_custom_scaffold=\"true\">\n",
        "<p>Your plot will probably still change months very slowly in your\n",
        "Jupyter notebook, because it calculates each month’s plot as needed.\n",
        "Open up the saved HTML file to see faster performance!</p>\n",
        "</div>\n",
        "</div></div></div>"
      ]
    },
    {
      "cell_type": "code",
      "execution_count": 7,
      "id": "a53a0c70",
      "metadata": {
        "template": "student"
      },
      "outputs": [],
      "source": [
        "# Join the occurrences with the plotting GeoDataFrame\n",
        "occurrence_gdf = ecoregions_gdf.join(occurrence_df)\n",
        "\n",
        "# Get the plot bounds so they don't change with the slider\n",
        "xmin, ymin, xmax, ymax = occurrence_gdf.total_bounds\n",
        "\n",
        "# Plot occurrence by ecoregion and month\n",
        "migration_plot = (\n",
        "    occurrence_gdf\n",
        "    .hvplot(\n",
        "        c=column_name_used_for_shape_color,\n",
        "        groupby=column_name_used_for_slider,\n",
        "        # Use background tiles\n",
        "        geo=True, crs=ccrs.Mercator(), tiles='CartoLight',\n",
        "        title=\"Your Title Here\",\n",
        "        xlim=(xmin, xmax), ylim=(ymin, ymax),\n",
        "        frame_height=600,\n",
        "        widget_location='bottom'\n",
        "    )\n",
        ")\n",
        "\n",
        "# Save the plot\n",
        "migration_plot.save('migration.html', embed=True)"
      ]
    },
    {
      "cell_type": "markdown",
      "id": "5f71c9d3-1d10-4c8f-ad9e-4b4cbdf5a168",
      "metadata": {},
      "source": [
        "<link rel=\"stylesheet\" type=\"text/css\" href=\"./assets/styles.css\"><div class=\"callout callout-style-default callout-titled callout-extra\"><div class=\"callout-header\"><div class=\"callout-icon-container\"><i class=\"callout-icon\"></i></div><div class=\"callout-title-container flex-fill\">Looking for an Extra Challenge?: Fix the month labels</div></div><div class=\"callout-body-container callout-body\"><p>Notice that the <code>month</code> slider displays numbers instead of\n",
        "the month name. Use <code>pn.widgets.DiscreteSlider()</code> with the\n",
        "<code>options=</code> parameter set to give the months names. You might\n",
        "want to try asking ChatGPT how to do this, or look at the documentation\n",
        "for <code>pn.widgets.DiscreteSlider()</code>. This is pretty tricky!</p></div></div>"
      ]
    }
  ],
  "metadata": {
    "kernelspec": {
      "display_name": "Learning Portal",
      "language": "python",
      "name": "learning-portal"
    },
    "language_info": {
      "codemirror_mode": {
        "name": "ipython",
        "version": "3"
      },
      "file_extension": ".py",
      "mimetype": "text/x-python",
      "name": "python",
      "nbconvert_exporter": "python",
      "pygments_lexer": "ipython3",
      "version": "3.11.13"
    }
  },
  "nbformat": 4,
  "nbformat_minor": 5
}
